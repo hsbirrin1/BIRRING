{
 "cells": [
  {
   "cell_type": "code",
   "execution_count": 2,
   "id": "a75eef6e",
   "metadata": {},
   "outputs": [
    {
     "name": "stdout",
     "output_type": "stream",
     "text": [
      "       cik_str ticker                            title\n",
      "0      1045810   NVDA                      NVIDIA CORP\n",
      "1       789019   MSFT                   MICROSOFT CORP\n",
      "2       320193   AAPL                       Apple Inc.\n",
      "3      1018724   AMZN                   AMAZON COM INC\n",
      "4      1652044  GOOGL                    Alphabet Inc.\n",
      "...        ...    ...                              ...\n",
      "10056  2048270  SMFRF  Sumitomo Forestry Co., Ltd./ADR\n",
      "10057  2008315  ARHUF                       AAK AB/ADR\n",
      "10058  2053411  PCPPF         PC Partner Group Ltd/ADR\n",
      "10059  2051587  BSAAU    BEST SPAC I Acquisition Corp.\n",
      "10060  1788707  ADYYF                   Adyen N.V./ADR\n",
      "\n",
      "[10061 rows x 3 columns]\n",
      "          cik_str ticker                            title\n",
      "0      0001045810   NVDA                      NVIDIA CORP\n",
      "1      0000789019   MSFT                   MICROSOFT CORP\n",
      "2      0000320193   AAPL                       Apple Inc.\n",
      "3      0001018724   AMZN                   AMAZON COM INC\n",
      "4      0001652044  GOOGL                    Alphabet Inc.\n",
      "...           ...    ...                              ...\n",
      "10056  0002048270  SMFRF  Sumitomo Forestry Co., Ltd./ADR\n",
      "10057  0002008315  ARHUF                       AAK AB/ADR\n",
      "10058  0002053411  PCPPF         PC Partner Group Ltd/ADR\n",
      "10059  0002051587  BSAAU    BEST SPAC I Acquisition Corp.\n",
      "10060  0001788707  ADYYF                   Adyen N.V./ADR\n",
      "\n",
      "[10061 rows x 3 columns]\n",
      "0001652044\n",
      "dict_keys(['cik', 'entityName', 'facts'])\n"
     ]
    }
   ],
   "source": [
    "# import modules \n",
    "import requests \n",
    "import pandas as pd \n",
    "\n",
    "# create a request header \n",
    "headers = {'User-Agent': \"hbirring@seattleu.edu\"}\n",
    "\n",
    "# get all companies data\n",
    "companyTickers = requests.get(\"https://www.sec.gov/files/company_tickers.json\", headers=headers)\n",
    "\n",
    "# print(companyTickers.json()['0']['cik_str'])\n",
    "\n",
    "companyCIK = pd.DataFrame.from_dict(companyTickers.json(), orient= 'index')\n",
    "\n",
    "print(companyCIK)\n",
    "\n",
    "companyCIK['cik_str']= companyCIK['cik_str'].astype(str).str.zfill(10)\n",
    "\n",
    "print(companyCIK)\n",
    "\n",
    "companyCIK = companyCIK.set_index('ticker')\n",
    "\n",
    "alphabet_cik = companyCIK.at['GOOGL', 'cik_str']\n",
    "\n",
    "print(alphabet_cik)\n",
    "\n",
    "# get all companies data\n",
    "companyFacts = requests.get(f\"https://data.sec.gov/api/xbrl/companyfacts/CIK{alphabet_cik}.json\", headers=headers)\n",
    "\n",
    "print(companyFacts.json().keys())"
   ]
  },
  {
   "cell_type": "code",
   "execution_count": 30,
   "id": "1e5156ba",
   "metadata": {},
   "outputs": [
    {
     "name": "stdout",
     "output_type": "stream",
     "text": [
      "label         end  quick_ratio\n",
      "0      2023-12-31     2.096585\n",
      "1      2024-12-31     1.836931\n"
     ]
    }
   ],
   "source": [
    "# Quick Ratio for GOOGL\n",
    "\n",
    "import pandas as pd\n",
    "\n",
    "# Load the data into a dataframe from the SEC EDGAR API response above ^^^^\n",
    "assets_df = pd.DataFrame(companyFacts.json()['facts']['us-gaap']['AssetsCurrent']['units']['USD'])\n",
    "liabilities_df = pd.DataFrame(companyFacts.json()['facts']['us-gaap']['LiabilitiesCurrent']['units']['USD'])\n",
    "inventory_df = pd.DataFrame(companyFacts.json()['facts']['us-gaap']['InventoryNet']['units']['USD'])\n",
    "\n",
    "# Tag each dataframe with a label to indenifty the data for a pivot table \n",
    "assets_df['label'] = 'assets'\n",
    "liabilities_df['label'] = 'liabilities'\n",
    "inventory_df['label'] = 'inventory'\n",
    "\n",
    "#combine all dataframes into one\n",
    "all_df = pd.concat([assets_df, liabilities_df, inventory_df], ignore_index=True)\n",
    "\n",
    "# Filter the dataframe/response to 10-K only\n",
    "filtered_df = all_df[(all_df['form'] == '10-K') & (all_df['fy'] == 2024)]\n",
    "\n",
    "#pivot the dataframe to one row per accession number\n",
    "pivot_df = filtered_df.pivot_table(index= ['accn', 'end'], columns= 'label', values='val', aggfunc='first').reset_index()\n",
    "\n",
    "#calculate the quick ratio: (current assets - inventory) / current liabilities \n",
    "pivot_df['quick_ratio'] = (pivot_df.get('assets', 0) - pivot_df.get('inventory', 0)) / pivot_df.get('liabilities', 1)\n",
    "\n",
    "#print out the quick ratio \n",
    "print(pivot_df[['end', 'quick_ratio']])\n",
    "\n",
    "                        "
   ]
  },
  {
   "cell_type": "code",
   "execution_count": 29,
   "id": "4264197f",
   "metadata": {},
   "outputs": [
    {
     "name": "stdout",
     "output_type": "stream",
     "text": [
      "label         end  current_ratio\n",
      "0      2023-12-31       2.096585\n",
      "1      2024-12-31       1.836931\n"
     ]
    }
   ],
   "source": [
    "# Current Ratio for GOOGL\n",
    "import pandas as pd\n",
    "\n",
    "# Load the data into a dataframe from the SEC EDGAR API response above ^^^^\n",
    "assets_df = pd.DataFrame(companyFacts.json()['facts']['us-gaap']['AssetsCurrent']['units']['USD'])\n",
    "liabilities_df = pd.DataFrame(companyFacts.json()['facts']['us-gaap']['LiabilitiesCurrent']['units']['USD'])\n",
    "\n",
    "#Label each DataFrame to distinquish them after pivoting \n",
    "assets_df['label'] = 'assets'\n",
    "liabilities_df['label'] = 'liabilities'\n",
    "\n",
    "#combine both into one dataframes\n",
    "all_df = pd.concat([assets_df, liabilities_df], ignore_index=True)\n",
    "\n",
    "# Filter for 10-K filings and fiscal year 2024 \n",
    "filtered_df = all_df[(all_df['form'] == '10-K') & (all_df['fy'] == 2024)]\n",
    "\n",
    "#pivot to get one row per accession number and end date \n",
    "pivot_df = filtered_df.pivot_table(index= ['accn', 'end'], columns= 'label', values='val', aggfunc='first').reset_index()\n",
    "\n",
    "#calculate the current ratio = current assets / current liabilities \n",
    "pivot_df['current_ratio'] = pivot_df.get('assets', 0) / pivot_df.get('liabilities', 1)\n",
    "\n",
    "# Display results\n",
    "print(pivot_df[['end', 'current_ratio']])\n",
    "\n"
   ]
  }
 ],
 "metadata": {
  "kernelspec": {
   "display_name": "Python 3",
   "language": "python",
   "name": "python3"
  },
  "language_info": {
   "codemirror_mode": {
    "name": "ipython",
    "version": 3
   },
   "file_extension": ".py",
   "mimetype": "text/x-python",
   "name": "python",
   "nbconvert_exporter": "python",
   "pygments_lexer": "ipython3",
   "version": "3.13.2"
  }
 },
 "nbformat": 4,
 "nbformat_minor": 5
}
